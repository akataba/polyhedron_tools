{
 "cells": [
  {
   "cell_type": "markdown",
   "metadata": {},
   "source": [
    "$\\newcommand{\\R}{\\mathbb{R}}$"
   ]
  },
  {
   "cell_type": "markdown",
   "metadata": {},
   "source": [
    "The **diameter** of a convex polytope is the maximum distance between any pair of vertices.\n",
    "\n",
    "**Contents:**\n",
    "\n",
    "- [Using vertex enumeration](#Computing-the-diameter-via-vertex-enumeration)\n",
    "- [Using support functions](#Computing-the-diameter-via-support-functions)"
   ]
  },
  {
   "cell_type": "markdown",
   "metadata": {},
   "source": [
    "### Computing the diameter via vertex enumeration\n",
    "\n",
    "Let $P$ be a polytope in a $n$-dimensional ambient space. If we have access to the V-representation of the polytope, then we can proceed as follows:\n",
    "\n",
    "```python\n",
    "1. diam = 0; vlist = P.vertices_list()\n",
    "2. for j = 1, ..., n:\n",
    "    for k = j+1, ..., n:\n",
    "        diam = max(diam, norm(vlist[j], vlist[k]))\n",
    "3. output diam\n",
    "```\n",
    "\n",
    "The time complexity of this algorithm is $O(n^2)$."
   ]
  },
  {
   "cell_type": "markdown",
   "metadata": {},
   "source": [
    "By default, the function `diameter_vertex_enumeration` works in the supremum norm. A second argument can be passed to specify the norm."
   ]
  },
  {
   "cell_type": "code",
   "execution_count": 1,
   "metadata": {
    "collapsed": false
   },
   "outputs": [
    {
     "data": {
      "text/plain": [
       "2"
      ]
     },
     "execution_count": 1,
     "metadata": {},
     "output_type": "execute_result"
    }
   ],
   "source": [
    "from polyhedron_tools.misc import diameter_vertex_enumeration\n",
    "\n",
    "diameter_vertex_enumeration(polytopes.hypercube(3))"
   ]
  },
  {
   "cell_type": "code",
   "execution_count": 2,
   "metadata": {
    "collapsed": false
   },
   "outputs": [
    {
     "data": {
      "text/plain": [
       "2*sqrt(3)"
      ]
     },
     "execution_count": 2,
     "metadata": {},
     "output_type": "execute_result"
    }
   ],
   "source": [
    "diameter_vertex_enumeration(polytopes.hypercube(3), p=2)"
   ]
  },
  {
   "cell_type": "markdown",
   "metadata": {},
   "source": [
    "In fact for the $n$-hypercube, the diameter is $2\\sqrt{n}$. In practice, the computation for high dimensions could take a very long time because the vertices may increase exponentially. For instance, the $n$-dimensional hypercube has $2^n$ vertices."
   ]
  },
  {
   "cell_type": "code",
   "execution_count": 3,
   "metadata": {
    "collapsed": false
   },
   "outputs": [
    {
     "data": {
      "text/plain": [
       "2*sqrt(6)"
      ]
     },
     "execution_count": 3,
     "metadata": {},
     "output_type": "execute_result"
    }
   ],
   "source": [
    "diameter_vertex_enumeration(polytopes.hypercube(6), p=2) "
   ]
  },
  {
   "cell_type": "markdown",
   "metadata": {},
   "source": [
    "### Computing the diameter via support functions"
   ]
  },
  {
   "cell_type": "markdown",
   "metadata": {},
   "source": [
    "An alternative approach is to use the $H$-representation of the polytope. \n",
    "\n",
    "Below we describe an algorithm that is inspired from [Inner and outer approximations of polytopes using boxes](http://www.sciencedirect.com/science/article/pii/S0925772103000488); see that paper and references therein for further details on this or related enclosing problems."
   ]
  },
  {
   "cell_type": "markdown",
   "metadata": {},
   "source": [
    "If $l, u \\in \\R^n$, with $l_i \\leq u_i$ for all $i = 1,\\ldots,n$, consider the hyperrectangle $\\mathcal{B}(l, u)$, defined as the product of intervals\n",
    "$$\n",
    "\\mathcal{B}(l, u) = [l_1,u_1]\\times [l_2, u_2]\\times \\cdots \\times [l_n, u_n].\n",
    "$$\n",
    "\n",
    "Let $P$ be a given polytope in ambient dimension $n$ and defined by $m$ constraints. Consider the following algorithm to compute the diameter of $P$ in the supremum norm:\n",
    "\n",
    "```python\n",
    "1. For j = 1, ..., n:\n",
    "\n",
    "    (i) l_j := min x_j such that x in P\n",
    "    \n",
    "    (ii) u_j := max x_j such that x in P\n",
    " \n",
    "2. Output max_j (u_j - l_j)\n",
    "```\n",
    "\n",
    "The time complexity of this algorithm is $O(n \\times LP(m, n))$.\n",
    "\n",
    "Using inner products, $x_j = \\langle x, e_j \\rangle$ for each $j$, where $e_j$ is the $j$-element of the canonical basic of $\\R^n$. If $\\rho_P(d)$ denotes the support function of $P$ evaluated at $d \\in \\R^n$, we can pose the problem:\n",
    "\n",
    "- `max x_j such that x in P` as evaluating $\\rho_P(e_j)$, and similarly\n",
    "- `min x_j such that x in P` as evaluating $-\\rho_P(-e_j)$."
   ]
  },
  {
   "cell_type": "code",
   "execution_count": 4,
   "metadata": {
    "collapsed": false
   },
   "outputs": [
    {
     "data": {
      "text/plain": [
       "(14.0, (7.0, 7.0, 7.0, 7.0, 7.0), (-7.0, -7.0, -7.0, -7.0, -7.0))"
      ]
     },
     "execution_count": 4,
     "metadata": {},
     "output_type": "execute_result"
    }
   ],
   "source": [
    "from polyhedron_tools.misc import diameter_support_function, polyhedron_to_Hrep\n",
    "\n",
    "[A, b] = polyhedron_to_Hrep(7*polytopes.hypercube(5))\n",
    "diameter_support_function(A, b)"
   ]
  },
  {
   "cell_type": "markdown",
   "metadata": {},
   "source": [
    "---\n",
    "\n",
    "###### Related refs\n",
    "\n",
    "1. [Inner and outer approximations of polytopes using boxes](http://www.sciencedirect.com/science/article/pii/S0925772103000488)\n",
    "2. [An upper bound for the diameter of a polytope](http://www.sciencedirect.com/science/article/pii/0012365X74900168)\n",
    "3. [On the diameter of convex polytopes](http://www.sciencedirect.com/science/article/pii/0012365X9290349K)"
   ]
  }
 ],
 "metadata": {
  "kernelspec": {
   "display_name": "SageMath 7.5.1",
   "language": "",
   "name": "sagemath"
  },
  "language_info": {
   "codemirror_mode": {
    "name": "ipython",
    "version": 2
   },
   "file_extension": ".py",
   "mimetype": "text/x-python",
   "name": "python",
   "nbconvert_exporter": "python",
   "pygments_lexer": "ipython2",
   "version": "2.7.13"
  }
 },
 "nbformat": 4,
 "nbformat_minor": 0
}
