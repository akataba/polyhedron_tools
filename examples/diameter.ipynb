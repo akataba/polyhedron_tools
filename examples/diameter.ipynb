{
 "cells": [
  {
   "cell_type": "markdown",
   "metadata": {},
   "source": [
    "$\\newcommand{\\R}{\\mathbb{R}}$"
   ]
  },
  {
   "cell_type": "markdown",
   "metadata": {},
   "source": [
    "The **diameter** of a convex polytope is the maximum distance between any pair of vertices.\n",
    "\n",
    "**Contents:**\n",
    "\n",
    "- [Using vertex enumeration](#Computing-the-diameter-via-vertex-enumeration)\n",
    "- [Using support functions](#Computing-the-diameter-via-support-functions)"
   ]
  },
  {
   "cell_type": "markdown",
   "metadata": {},
   "source": [
    "### Computing the diameter via vertex enumeration\n",
    "\n",
    "Let $P$ be a polytope in a $d$-dimensional ambient space. If we have access to the V-representation of the polytope, then we can proceed as follows:\n",
    "\n",
    "```python\n",
    "1. diam = 0; vlist = P.vertices_list()\n",
    "2. for j = 1, ..., n:\n",
    "    for k = j+1, ..., n:\n",
    "        diam = max(diam, norm(vlist[j], vlist[k]))\n",
    "3. output diam\n",
    "```\n",
    "\n",
    "The time complexity of this algorithm is $O(n^2)$."
   ]
  },
  {
   "cell_type": "markdown",
   "metadata": {},
   "source": [
    "By default, the function `diameter_vertex_enumeration` works in the supremum norm. A second argument can be passed to specify the norm."
   ]
  },
  {
   "cell_type": "code",
   "execution_count": 6,
   "metadata": {
    "collapsed": false
   },
   "outputs": [
    {
     "data": {
      "text/plain": [
       "2"
      ]
     },
     "execution_count": 6,
     "metadata": {},
     "output_type": "execute_result"
    }
   ],
   "source": [
    "from polyhedron_tools.misc import diameter_vertex_enumeration\n",
    "\n",
    "diameter_vertex_enumeration(polytopes.hypercube(3))"
   ]
  },
  {
   "cell_type": "code",
   "execution_count": 7,
   "metadata": {
    "collapsed": false
   },
   "outputs": [
    {
     "data": {
      "text/plain": [
       "2*sqrt(3)"
      ]
     },
     "execution_count": 7,
     "metadata": {},
     "output_type": "execute_result"
    }
   ],
   "source": [
    "diameter_vertex_enumeration(polytopes.hypercube(3), p=2)"
   ]
  },
  {
   "cell_type": "markdown",
   "metadata": {},
   "source": [
    "In fact for the $n$-hypercube, the diameter is $2\\sqrt{n}$. In practice, the computation for high dimensions could take a very long time because the vertices may increase exponentially. For instance, the $n$-dimensional hypercube has $2^n$ vertices."
   ]
  },
  {
   "cell_type": "code",
   "execution_count": 9,
   "metadata": {
    "collapsed": false
   },
   "outputs": [
    {
     "data": {
      "text/plain": [
       "2*sqrt(6)"
      ]
     },
     "execution_count": 9,
     "metadata": {},
     "output_type": "execute_result"
    }
   ],
   "source": [
    "diameter_vertex_enumeration(polytopes.hypercube(6), p=2) "
   ]
  },
  {
   "cell_type": "markdown",
   "metadata": {},
   "source": [
    "### Computing the diameter via support functions"
   ]
  },
  {
   "cell_type": "markdown",
   "metadata": {},
   "source": [
    "An alternative approach is to use the $H$-representation of the polytope. \n",
    "\n",
    "Below we describe an algorithm that is inspired from [Inner and outer approximations of polytopes using boxes](http://www.sciencedirect.com/science/article/pii/S0925772103000488); see that paper and references therein for further details on this or related enclosing problems."
   ]
  },
  {
   "cell_type": "markdown",
   "metadata": {},
   "source": [
    "If $l, u \\in \\R^n$, with $l_i \\leq u_i$ for all $i = 1,\\ldots,n$, consider the hyperrectangle $\\mathcal{B}(l, u)$, defined as the product of intervals\n",
    "$$\n",
    "\\mathcal{B}(l, u) = [l_1,u_1]\\times [l_2, u_2]\\times \\cdots \\times [l_n, u_n].\n",
    "$$\n",
    "\n",
    "Let $P$ be a given polytope in ambient dimension $n$ and defined by $m$ constraints. Consider the following algorithm to compute the diameter of $P$ in the supremum norm:\n",
    "\n",
    "```python\n",
    "1. For j = 1, ..., n:\n",
    "\n",
    "    (i) l_j := min x_j such that x in P\n",
    "    \n",
    "    (ii) u_j := max x_j such that x in P\n",
    " \n",
    "2. Output max_j (u_j - l_j)\n",
    "```\n",
    "\n",
    "The time complexity of this algorithm is $O(n \\times LP(m, n))$.\n",
    "\n",
    "Using inner products, $x_j = \\langle x, e_j \\rangle$ for each $j$, where $e_j$ is the $j$-element of the canonical basic of $\\R^n$. Hence, we can pose the problem:\n",
    "\n",
    "- `max x_j such that x in P` as evaluating $\\rho_P(e_j)$, and similarly\n",
    "- `min x_j such that x in P` as evaluating $-\\rho_P(-e_j)$."
   ]
  },
  {
   "cell_type": "code",
   "execution_count": null,
   "metadata": {
    "collapsed": true
   },
   "outputs": [],
   "source": []
  },
  {
   "cell_type": "code",
   "execution_count": 9,
   "metadata": {
    "collapsed": true
   },
   "outputs": [],
   "source": [
    "def diameter_support_function(A, b):\n",
    "    r\"\"\"Compute the diameter of a polytope using the H-representation.\n",
    "    \n",
    "    The diameter is computed in the supremum norm.\n",
    "\n",
    "    EXAMPLES::\n",
    "    \n",
    "        sage: from polyhedron_tools.misc import diameter_support_function, polyhedron_to_Hrep\n",
    "        sage: [A, b] = polyhedron_to_Hrep(7*polytopes.hypercube(5))\n",
    "        sage: diameter_support_function(A, b)\n",
    "        (14.0, (7.0, 7.0, 7.0, 7.0, 7.0), (-7.0, -7.0, -7.0, -7.0, -7.0))\n",
    "    \"\"\"\n",
    "    from polyhedron_tools.misc import support_function\n",
    "    \n",
    "    # ambient dimension\n",
    "    n = A.ncols()\n",
    "    \n",
    "    # number of constraints\n",
    "    m = A.rows()\n",
    "    \n",
    "    In = identity_matrix(n)\n",
    "    \n",
    "    # lower : min x_j \n",
    "    l = []\n",
    "    for j in range(n):\n",
    "        l += [-support_function([A, b], -In.column(j))]\n",
    "    l = vector(l)\n",
    "    \n",
    "    # upper : max x_j \n",
    "    u = []\n",
    "    for j in range(n):\n",
    "        u += [support_function([A, b], In.column(j))]\n",
    "    u = vector(u)\n",
    "    \n",
    "    diam = max(u-l)\n",
    "\n",
    "    return diam, u, l"
   ]
  },
  {
   "cell_type": "code",
   "execution_count": 2,
   "metadata": {
    "collapsed": false
   },
   "outputs": [
    {
     "data": {
      "text/plain": [
       "(\n",
       "[ 1.0  0.0  0.0  0.0]                                          \n",
       "[ 0.0  1.0  0.0  0.0]                                          \n",
       "[ 0.0  0.0  1.0  0.0]                                          \n",
       "[ 0.0  0.0  0.0  1.0]                                          \n",
       "[-1.0  0.0  0.0  0.0]                                          \n",
       "[ 0.0 -1.0  0.0  0.0]                                          \n",
       "[ 0.0  0.0 -1.0  0.0]                                          \n",
       "[ 0.0  0.0  0.0 -1.0], (1.0, 1.0, 1.0, 1.0, 1.0, 1.0, 1.0, 1.0)\n",
       ")"
      ]
     },
     "execution_count": 2,
     "metadata": {},
     "output_type": "execute_result"
    }
   ],
   "source": [
    "from polyhedron_tools.misc import support_function, polyhedron_to_Hrep\n",
    "\n",
    "# example\n",
    "n = 4\n",
    "P = polytopes.hypercube(n)\n",
    "[A, b] = polyhedron_to_Hrep(P)\n",
    "A, b"
   ]
  }
 ],
 "metadata": {
  "kernelspec": {
   "display_name": "SageMath 7.5.1",
   "language": "",
   "name": "sagemath"
  },
  "language_info": {
   "codemirror_mode": {
    "name": "ipython",
    "version": 2
   },
   "file_extension": ".py",
   "mimetype": "text/x-python",
   "name": "python",
   "nbconvert_exporter": "python",
   "pygments_lexer": "ipython2",
   "version": "2.7.13"
  }
 },
 "nbformat": 4,
 "nbformat_minor": 0
}
