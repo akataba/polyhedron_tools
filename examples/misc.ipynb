{
 "cells": [
  {
   "cell_type": "markdown",
   "metadata": {},
   "source": [
    "**Objective**. This notebook contains illustrating examples for the utilities in the [polyhedron_tools](https://github.com/mforets/polyhedron_tools) module. "
   ]
  },
  {
   "cell_type": "code",
   "execution_count": 1,
   "metadata": {
    "collapsed": true
   },
   "outputs": [],
   "source": [
    "%display typeset"
   ]
  },
  {
   "cell_type": "markdown",
   "metadata": {},
   "source": [
    "## 1. Modeling with Polyhedra: back and forth with half-space representation \n",
    "\n",
    "We present examples for creating Polyhedra from matrices and conversely to obtain matrices from Polyhedra."
   ]
  },
  {
   "cell_type": "code",
   "execution_count": 2,
   "metadata": {
    "collapsed": false
   },
   "outputs": [
    {
     "data": {
      "text/html": [
       "<html><script type=\"math/tex; mode=display\">\\text{A 3-dimensional polyhedron in QQ^6 defined as the convex hull of 8 vertices (use the .plot() method to plot)}</script></html>"
      ],
      "text/plain": [
       "A 3-dimensional polyhedron in QQ^6 defined as the convex hull of 8 vertices"
      ]
     },
     "execution_count": 2,
     "metadata": {},
     "output_type": "execute_result"
    }
   ],
   "source": [
    "from polyhedron_tools.misc import polyhedron_from_Hrep, polyhedron_to_Hrep\n",
    "\n",
    "A = matrix([[-1.0, 0.0,  0.0,  0.0,  0.0,  0.0],\n",
    "[ 1.0,  0.0,  0.0,  0.0,  0.0,  0.0],\n",
    "[ 0.0,  1.0,  0.0,  0.0,  0.0,  0.0],\n",
    "[ 0.0, -1.0,  0.0,  0.0,  0.0,  0.0],\n",
    "[ 0.0,  0.0, -1.0,  0.0,  0.0,  0.0],\n",
    "[ 0.0,  0.0,  1.0,  0.0,  0.0,  0.0],\n",
    "[ 0.0,  0.0,  0.0, -1.0,  0.0,  0.0],\n",
    "[ 0.0,  0.0,  0.0,  1.0,  0.0,  0.0],\n",
    "[ 0.0,  0.0,  0.0,  0.0,  1.0,  0.0],\n",
    "[ 0.0,  0.0,  0.0,  0.0, -1.0,  0.0],\n",
    "[ 0.0,  0.0,  0.0,  0.0,  0.0,  1.0],\n",
    "[ 0.0,  0.0,  0.0,  0.0,  0.0, -1.0]])\n",
    "\n",
    "b = vector([0.0, 10.0, 0.0, 0.0, 0.2, 0.2, 0.1, 0.1, 0.0, 0.0, 0.0, 0.0])\n",
    "\n",
    "P = polyhedron_from_Hrep(A, b); \n",
    "P"
   ]
  },
  {
   "cell_type": "code",
   "execution_count": 3,
   "metadata": {
    "collapsed": false
   },
   "outputs": [
    {
     "data": {
      "text/html": [
       "<html><script type=\"math/tex; mode=display\">\\newcommand{\\Bold}[1]{\\mathbf{#1}}\\left(\\verb|An|\\phantom{\\verb!x!}\\verb|inequality|\\phantom{\\verb!x!}\\verb|(1,|\\phantom{\\verb!x!}\\verb|0,|\\phantom{\\verb!x!}\\verb|0,|\\phantom{\\verb!x!}\\verb|0,|\\phantom{\\verb!x!}\\verb|0,|\\phantom{\\verb!x!}\\verb|0)|\\phantom{\\verb!x!}\\verb|x|\\phantom{\\verb!x!}\\verb|+|\\phantom{\\verb!x!}\\verb|0|\\phantom{\\verb!x!}\\verb|>=|\\phantom{\\verb!x!}\\verb|0|, \\verb|An|\\phantom{\\verb!x!}\\verb|inequality|\\phantom{\\verb!x!}\\verb|(0,|\\phantom{\\verb!x!}\\verb|0,|\\phantom{\\verb!x!}\\verb|-5,|\\phantom{\\verb!x!}\\verb|0,|\\phantom{\\verb!x!}\\verb|0,|\\phantom{\\verb!x!}\\verb|0)|\\phantom{\\verb!x!}\\verb|x|\\phantom{\\verb!x!}\\verb|+|\\phantom{\\verb!x!}\\verb|1|\\phantom{\\verb!x!}\\verb|>=|\\phantom{\\verb!x!}\\verb|0|, \\verb|An|\\phantom{\\verb!x!}\\verb|inequality|\\phantom{\\verb!x!}\\verb|(0,|\\phantom{\\verb!x!}\\verb|0,|\\phantom{\\verb!x!}\\verb|5,|\\phantom{\\verb!x!}\\verb|0,|\\phantom{\\verb!x!}\\verb|0,|\\phantom{\\verb!x!}\\verb|0)|\\phantom{\\verb!x!}\\verb|x|\\phantom{\\verb!x!}\\verb|+|\\phantom{\\verb!x!}\\verb|1|\\phantom{\\verb!x!}\\verb|>=|\\phantom{\\verb!x!}\\verb|0|, \\verb|An|\\phantom{\\verb!x!}\\verb|inequality|\\phantom{\\verb!x!}\\verb|(0,|\\phantom{\\verb!x!}\\verb|0,|\\phantom{\\verb!x!}\\verb|0,|\\phantom{\\verb!x!}\\verb|10,|\\phantom{\\verb!x!}\\verb|0,|\\phantom{\\verb!x!}\\verb|0)|\\phantom{\\verb!x!}\\verb|x|\\phantom{\\verb!x!}\\verb|+|\\phantom{\\verb!x!}\\verb|1|\\phantom{\\verb!x!}\\verb|>=|\\phantom{\\verb!x!}\\verb|0|, \\verb|An|\\phantom{\\verb!x!}\\verb|inequality|\\phantom{\\verb!x!}\\verb|(0,|\\phantom{\\verb!x!}\\verb|0,|\\phantom{\\verb!x!}\\verb|0,|\\phantom{\\verb!x!}\\verb|-10,|\\phantom{\\verb!x!}\\verb|0,|\\phantom{\\verb!x!}\\verb|0)|\\phantom{\\verb!x!}\\verb|x|\\phantom{\\verb!x!}\\verb|+|\\phantom{\\verb!x!}\\verb|1|\\phantom{\\verb!x!}\\verb|>=|\\phantom{\\verb!x!}\\verb|0|, \\verb|An|\\phantom{\\verb!x!}\\verb|inequality|\\phantom{\\verb!x!}\\verb|(-1,|\\phantom{\\verb!x!}\\verb|0,|\\phantom{\\verb!x!}\\verb|0,|\\phantom{\\verb!x!}\\verb|0,|\\phantom{\\verb!x!}\\verb|0,|\\phantom{\\verb!x!}\\verb|0)|\\phantom{\\verb!x!}\\verb|x|\\phantom{\\verb!x!}\\verb|+|\\phantom{\\verb!x!}\\verb|10|\\phantom{\\verb!x!}\\verb|>=|\\phantom{\\verb!x!}\\verb|0|\\right)</script></html>"
      ],
      "text/plain": [
       "(An inequality (1, 0, 0, 0, 0, 0) x + 0 >= 0,\n",
       " An inequality (0, 0, -5, 0, 0, 0) x + 1 >= 0,\n",
       " An inequality (0, 0, 5, 0, 0, 0) x + 1 >= 0,\n",
       " An inequality (0, 0, 0, 10, 0, 0) x + 1 >= 0,\n",
       " An inequality (0, 0, 0, -10, 0, 0) x + 1 >= 0,\n",
       " An inequality (-1, 0, 0, 0, 0, 0) x + 10 >= 0)"
      ]
     },
     "execution_count": 3,
     "metadata": {},
     "output_type": "execute_result"
    }
   ],
   "source": [
    "P.inequalities()"
   ]
  },
  {
   "cell_type": "code",
   "execution_count": 4,
   "metadata": {
    "collapsed": false
   },
   "outputs": [
    {
     "data": {
      "text/html": [
       "<html><script type=\"math/tex; mode=display\">\\newcommand{\\Bold}[1]{\\mathbf{#1}}\\left(\\verb|An|\\phantom{\\verb!x!}\\verb|equation|\\phantom{\\verb!x!}\\verb|(0,|\\phantom{\\verb!x!}\\verb|0,|\\phantom{\\verb!x!}\\verb|0,|\\phantom{\\verb!x!}\\verb|0,|\\phantom{\\verb!x!}\\verb|0,|\\phantom{\\verb!x!}\\verb|1)|\\phantom{\\verb!x!}\\verb|x|\\phantom{\\verb!x!}\\verb|+|\\phantom{\\verb!x!}\\verb|0|\\phantom{\\verb!x!}\\verb|==|\\phantom{\\verb!x!}\\verb|0|, \\verb|An|\\phantom{\\verb!x!}\\verb|equation|\\phantom{\\verb!x!}\\verb|(0,|\\phantom{\\verb!x!}\\verb|0,|\\phantom{\\verb!x!}\\verb|0,|\\phantom{\\verb!x!}\\verb|0,|\\phantom{\\verb!x!}\\verb|1,|\\phantom{\\verb!x!}\\verb|0)|\\phantom{\\verb!x!}\\verb|x|\\phantom{\\verb!x!}\\verb|+|\\phantom{\\verb!x!}\\verb|0|\\phantom{\\verb!x!}\\verb|==|\\phantom{\\verb!x!}\\verb|0|, \\verb|An|\\phantom{\\verb!x!}\\verb|equation|\\phantom{\\verb!x!}\\verb|(0,|\\phantom{\\verb!x!}\\verb|1,|\\phantom{\\verb!x!}\\verb|0,|\\phantom{\\verb!x!}\\verb|0,|\\phantom{\\verb!x!}\\verb|0,|\\phantom{\\verb!x!}\\verb|0)|\\phantom{\\verb!x!}\\verb|x|\\phantom{\\verb!x!}\\verb|+|\\phantom{\\verb!x!}\\verb|0|\\phantom{\\verb!x!}\\verb|==|\\phantom{\\verb!x!}\\verb|0|\\right)</script></html>"
      ],
      "text/plain": [
       "(An equation (0, 0, 0, 0, 0, 1) x + 0 == 0,\n",
       " An equation (0, 0, 0, 0, 1, 0) x + 0 == 0,\n",
       " An equation (0, 1, 0, 0, 0, 0) x + 0 == 0)"
      ]
     },
     "execution_count": 4,
     "metadata": {},
     "output_type": "execute_result"
    }
   ],
   "source": [
    "P.equations()"
   ]
  },
  {
   "cell_type": "markdown",
   "metadata": {},
   "source": [
    "It is possible to obtain the matrices that represent the inequality and the equality constraints separately, using the keyword argument `separate_equality_constraints`. This type of information is somtimes useful for optimization solvers."
   ]
  },
  {
   "cell_type": "code",
   "execution_count": 5,
   "metadata": {
    "collapsed": false
   },
   "outputs": [],
   "source": [
    "[A, b, Aeq, beq] = polyhedron_to_Hrep(P, separate_equality_constraints = True)"
   ]
  },
  {
   "cell_type": "code",
   "execution_count": 6,
   "metadata": {
    "collapsed": false
   },
   "outputs": [
    {
     "data": {
      "text/html": [
       "<html><script type=\"math/tex; mode=display\">\\newcommand{\\Bold}[1]{\\mathbf{#1}}\\left(\\left(\\begin{array}{rrrrrr}\n",
       "-1.0 & 0.0 & 0.0 & 0.0 & 0.0 & 0.0 \\\\\n",
       "0.0 & 0.0 & 5.0 & 0.0 & 0.0 & 0.0 \\\\\n",
       "0.0 & 0.0 & -5.0 & 0.0 & 0.0 & 0.0 \\\\\n",
       "0.0 & 0.0 & 0.0 & -10.0 & 0.0 & 0.0 \\\\\n",
       "0.0 & 0.0 & 0.0 & 10.0 & 0.0 & 0.0 \\\\\n",
       "1.0 & 0.0 & 0.0 & 0.0 & 0.0 & 0.0\n",
       "\\end{array}\\right), \\left(0.0,\\,1.0,\\,1.0,\\,1.0,\\,1.0,\\,10.0\\right)\\right)</script></html>"
      ],
      "text/plain": [
       "(\n",
       "[ -1.0   0.0   0.0   0.0   0.0   0.0]                                 \n",
       "[  0.0   0.0   5.0   0.0   0.0   0.0]                                 \n",
       "[  0.0   0.0  -5.0   0.0   0.0   0.0]                                 \n",
       "[  0.0   0.0   0.0 -10.0   0.0   0.0]                                 \n",
       "[  0.0   0.0   0.0  10.0   0.0   0.0]                                 \n",
       "[  1.0   0.0   0.0   0.0   0.0   0.0], (0.0, 1.0, 1.0, 1.0, 1.0, 10.0)\n",
       ")"
      ]
     },
     "execution_count": 6,
     "metadata": {},
     "output_type": "execute_result"
    }
   ],
   "source": [
    "A, b"
   ]
  },
  {
   "cell_type": "code",
   "execution_count": 7,
   "metadata": {
    "collapsed": false,
    "scrolled": true
   },
   "outputs": [
    {
     "data": {
      "text/html": [
       "<html><script type=\"math/tex; mode=display\">\\newcommand{\\Bold}[1]{\\mathbf{#1}}\\left(\\left(\\begin{array}{rrrrrr}\n",
       "0.0 & 0.0 & 0.0 & 0.0 & 0.0 & -1.0 \\\\\n",
       "0.0 & 0.0 & 0.0 & 0.0 & -1.0 & 0.0 \\\\\n",
       "0.0 & -1.0 & 0.0 & 0.0 & 0.0 & 0.0\n",
       "\\end{array}\\right), \\left(0.0,\\,0.0,\\,0.0\\right)\\right)</script></html>"
      ],
      "text/plain": [
       "(\n",
       "[ 0.0  0.0  0.0  0.0  0.0 -1.0]                 \n",
       "[ 0.0  0.0  0.0  0.0 -1.0  0.0]                 \n",
       "[ 0.0 -1.0  0.0  0.0  0.0  0.0], (0.0, 0.0, 0.0)\n",
       ")"
      ]
     },
     "execution_count": 7,
     "metadata": {},
     "output_type": "execute_result"
    }
   ],
   "source": [
    "Aeq, beq"
   ]
  },
  {
   "cell_type": "markdown",
   "metadata": {},
   "source": [
    "## 2. Generating polyhedra"
   ]
  },
  {
   "cell_type": "markdown",
   "metadata": {},
   "source": [
    "### Constructing hyperrectangles"
   ]
  },
  {
   "cell_type": "markdown",
   "metadata": {},
   "source": [
    "Let's construct a ball in the infinity norm, specifying the center and radius. \n",
    "\n",
    "We remark that the case of a hyperbox can be done in Sage's library `polytopes.hypercube(n)` where `n` is the dimension. However, as of Sage v7.6. there is no such hyperrectangle function (or n-orthotope, see the [wikipedia page](https://en.wikipedia.org/wiki/Hyperrectangle)), so we use `BoxInfty`."
   ]
  },
  {
   "cell_type": "code",
   "execution_count": 8,
   "metadata": {
    "collapsed": false
   },
   "outputs": [],
   "source": [
    "from polyhedron_tools.misc import BoxInfty"
   ]
  },
  {
   "cell_type": "code",
   "execution_count": 9,
   "metadata": {
    "collapsed": false
   },
   "outputs": [
    {
     "data": {
      "text/html": [
       "\n",
       "<iframe srcdoc=\"\n",
       "<html>\n",
       "<head>\n",
       "  <style>\n",
       "    * {\n",
       "      margin: 0;\n",
       "      padding: 0;\n",
       "      overflow: hidden;\n",
       "    }\n",
       "    body, html {      \n",
       "      height: 100%;\n",
       "      width: 100%;\n",
       "    }\n",
       "  </style>\n",
       "  <script type=&quot;text/javascript&quot; src=&quot;/nbextensions/jsmol/JSmol.min.js&quot;></script>\n",
       "</head>\n",
       "<body>\n",
       "  <script type=&quot;text/javascript&quot;>\n",
       "    var script = [\n",
       "  'data &quot;model list&quot;',\n",
       "  '10',\n",
       "  'empty',\n",
       "  'Xx -1.06451612903 -3.03225806452 -3.0',\n",
       "  'Xx 0.0 -3.03225806452 -3.0',\n",
       "  'Xx 1.06451612903 -3.03225806452 -3.0',\n",
       "  'Xx 2.06451612903 -2.03225806452 -3.0',\n",
       "  'Xx 2.06451612903 0.0 -3.0',\n",
       "  'Xx 2.06451612903 2.03225806452 -3.0',\n",
       "  'Xx -2.06451612903 -2.03225806452 -3.0',\n",
       "  'Xx -2.06451612903 -2.03225806452 0.0',\n",
       "  'Xx -2.06451612903 -2.03225806452 3.0',\n",
       "  'Xx 5.5 5.5 5.5',\n",
       "  'end &quot;model list&quot;; show data',\n",
       "  'select *',\n",
       "  'wireframe off; spacefill off',\n",
       "  'set labelOffset 0 0',\n",
       "  'background [255,255,255]',\n",
       "  'spin OFF',\n",
       "  'moveto 0 -764 -346 -545 76.39',\n",
       "  'centerAt absolute {0 0 0}',\n",
       "  'zoom 100',\n",
       "  'frank OFF',\n",
       "  'set perspectivedepth ON',\n",
       "  'draw point_1 DIAMETER 5 {1.06451612903 1.64516129032 2.61290322581}',\n",
       "  'color $point_1  [0,0,255]',\n",
       "  'draw point_2 DIAMETER 5 {1.06451612903 2.03225806452 2.61290322581}',\n",
       "  'color $point_2  [0,0,255]',\n",
       "  'draw point_3 DIAMETER 5 {1.06451612903 2.03225806452 3.0}',\n",
       "  'color $point_3  [0,0,255]',\n",
       "  'draw point_4 DIAMETER 5 {1.06451612903 1.64516129032 3.0}',\n",
       "  'color $point_4  [0,0,255]',\n",
       "  'draw point_5 DIAMETER 5 {0.677419354839 1.64516129032 3.0}',\n",
       "  'color $point_5  [0,0,255]',\n",
       "  'draw point_6 DIAMETER 5 {0.677419354839 1.64516129032 2.61290322581}',\n",
       "  'color $point_6  [0,0,255]',\n",
       "  'draw point_7 DIAMETER 5 {0.677419354839 2.03225806452 2.61290322581}',\n",
       "  'color $point_7  [0,0,255]',\n",
       "  'draw point_8 DIAMETER 5 {0.677419354839 2.03225806452 3.0}',\n",
       "  'color $point_8  [0,0,255]',\n",
       "  'draw line_9 diameter 1 curve {1.06451612903 1.64516129032 2.61290322581}  {1.06451612903 2.03225806452 2.61290322581} ',\n",
       "  'color $line_9  [0,0,255]',\n",
       "  'draw line_10 diameter 1 curve {1.06451612903 1.64516129032 2.61290322581}  {1.06451612903 1.64516129032 3.0} ',\n",
       "  'color $line_10  [0,0,255]',\n",
       "  'draw line_11 diameter 1 curve {1.06451612903 1.64516129032 2.61290322581}  {0.677419354839 1.64516129032 2.61290322581} ',\n",
       "  'color $line_11  [0,0,255]',\n",
       "  'draw line_12 diameter 1 curve {1.06451612903 2.03225806452 2.61290322581}  {1.06451612903 2.03225806452 3.0} ',\n",
       "  'color $line_12  [0,0,255]',\n",
       "  'draw line_13 diameter 1 curve {1.06451612903 2.03225806452 2.61290322581}  {0.677419354839 2.03225806452 2.61290322581} ',\n",
       "  'color $line_13  [0,0,255]',\n",
       "  'draw line_14 diameter 1 curve {1.06451612903 2.03225806452 3.0}  {1.06451612903 1.64516129032 3.0} ',\n",
       "  'color $line_14  [0,0,255]',\n",
       "  'draw line_15 diameter 1 curve {1.06451612903 2.03225806452 3.0}  {0.677419354839 2.03225806452 3.0} ',\n",
       "  'color $line_15  [0,0,255]',\n",
       "  'draw line_16 diameter 1 curve {1.06451612903 1.64516129032 3.0}  {0.677419354839 1.64516129032 3.0} ',\n",
       "  'color $line_16  [0,0,255]',\n",
       "  'draw line_17 diameter 1 curve {0.677419354839 1.64516129032 3.0}  {0.677419354839 1.64516129032 2.61290322581} ',\n",
       "  'color $line_17  [0,0,255]',\n",
       "  'draw line_18 diameter 1 curve {0.677419354839 1.64516129032 3.0}  {0.677419354839 2.03225806452 3.0} ',\n",
       "  'color $line_18  [0,0,255]',\n",
       "  'draw line_19 diameter 1 curve {0.677419354839 1.64516129032 2.61290322581}  {0.677419354839 2.03225806452 2.61290322581} ',\n",
       "  'color $line_19  [0,0,255]',\n",
       "  'draw line_20 diameter 1 curve {0.677419354839 2.03225806452 2.61290322581}  {0.677419354839 2.03225806452 3.0} ',\n",
       "  'color $line_20  [0,0,255]',\n",
       "  'pmesh obj_21 inline &quot;4',\n",
       "  '1.06452 1.64516 3',\n",
       "  '1.06452 1.64516 2.6129',\n",
       "  '1.06452 2.03226 2.6129',\n",
       "  '1.06452 2.03226 3',\n",
       "  '1',\n",
       "  '5',\n",
       "  '0',\n",
       "  '1',\n",
       "  '2',\n",
       "  '3',\n",
       "  '0&quot;',\n",
       "  'color pmesh  [0,128,0]',\n",
       "  'pmesh obj_22 inline &quot;4',\n",
       "  '0.677419 2.03226 3',\n",
       "  '1.06452 2.03226 3',\n",
       "  '1.06452 2.03226 2.6129',\n",
       "  '0.677419 2.03226 2.6129',\n",
       "  '1',\n",
       "  '5',\n",
       "  '0',\n",
       "  '1',\n",
       "  '2',\n",
       "  '3',\n",
       "  '0&quot;',\n",
       "  'color pmesh  [0,128,0]',\n",
       "  'pmesh obj_23 inline &quot;4',\n",
       "  '0.677419 2.03226 3',\n",
       "  '1.06452 2.03226 3',\n",
       "  '1.06452 1.64516 3',\n",
       "  '0.677419 1.64516 3',\n",
       "  '1',\n",
       "  '5',\n",
       "  '0',\n",
       "  '1',\n",
       "  '2',\n",
       "  '3',\n",
       "  '0&quot;',\n",
       "  'color pmesh  [0,128,0]',\n",
       "  'pmesh obj_24 inline &quot;4',\n",
       "  '0.677419 2.03226 3',\n",
       "  '0.677419 1.64516 3',\n",
       "  '0.677419 1.64516 2.6129',\n",
       "  '0.677419 2.03226 2.6129',\n",
       "  '1',\n",
       "  '5',\n",
       "  '0',\n",
       "  '1',\n",
       "  '2',\n",
       "  '3',\n",
       "  '0&quot;',\n",
       "  'color pmesh  [0,128,0]',\n",
       "  'pmesh obj_25 inline &quot;4',\n",
       "  '0.677419 2.03226 2.6129',\n",
       "  '1.06452 2.03226 2.6129',\n",
       "  '1.06452 1.64516 2.6129',\n",
       "  '0.677419 1.64516 2.6129',\n",
       "  '1',\n",
       "  '5',\n",
       "  '0',\n",
       "  '1',\n",
       "  '2',\n",
       "  '3',\n",
       "  '0&quot;',\n",
       "  'color pmesh  [0,128,0]',\n",
       "  'pmesh obj_26 inline &quot;4',\n",
       "  '0.677419 1.64516 2.6129',\n",
       "  '1.06452 1.64516 2.6129',\n",
       "  '1.06452 1.64516 3',\n",
       "  '0.677419 1.64516 3',\n",
       "  '1',\n",
       "  '5',\n",
       "  '0',\n",
       "  '1',\n",
       "  '2',\n",
       "  '3',\n",
       "  '0&quot;',\n",
       "  'color pmesh  [0,128,0]',\n",
       "  'draw line_27 diameter 1 curve {-1.06451612903 -2.03225806452 -3.0}  {-1.06451612903 2.03225806452 -3.0} ',\n",
       "  'color $line_27 translucent 0.5 [0,0,0]',\n",
       "  'draw line_28 diameter 1 curve {-1.06451612903 2.03225806452 -3.0}  {1.06451612903 2.03225806452 -3.0} ',\n",
       "  'color $line_28 translucent 0.5 [0,0,0]',\n",
       "  'draw line_29 diameter 1 curve {1.06451612903 2.03225806452 -3.0}  {1.06451612903 -2.03225806452 -3.0} ',\n",
       "  'color $line_29 translucent 0.5 [0,0,0]',\n",
       "  'draw line_30 diameter 1 curve {1.06451612903 -2.03225806452 -3.0}  {-1.06451612903 -2.03225806452 -3.0} ',\n",
       "  'color $line_30 translucent 0.5 [0,0,0]',\n",
       "  'draw line_31 diameter 1 curve {-1.06451612903 -2.03225806452 -3.0}  {-1.06451612903 -2.03225806452 3.0} ',\n",
       "  'color $line_31 translucent 0.5 [0,0,0]',\n",
       "  'draw line_32 diameter 1 curve {-1.06451612903 -2.03225806452 3.0}  {-1.06451612903 2.03225806452 3.0} ',\n",
       "  'color $line_32 translucent 0.5 [0,0,0]',\n",
       "  'draw line_33 diameter 1 curve {-1.06451612903 2.03225806452 3.0}  {1.06451612903 2.03225806452 3.0} ',\n",
       "  'color $line_33 translucent 0.5 [0,0,0]',\n",
       "  'draw line_34 diameter 1 curve {1.06451612903 2.03225806452 3.0}  {1.06451612903 -2.03225806452 3.0} ',\n",
       "  'color $line_34 translucent 0.5 [0,0,0]',\n",
       "  'draw line_35 diameter 1 curve {1.06451612903 -2.03225806452 3.0}  {-1.06451612903 -2.03225806452 3.0} ',\n",
       "  'color $line_35 translucent 0.5 [0,0,0]',\n",
       "  'draw line_36 diameter 1 curve {-1.06451612903 -2.03225806452 3.0} ',\n",
       "  'color $line_36 translucent 0.5 [0,0,0]',\n",
       "  'draw line_37 diameter 1 curve {-1.06451612903 2.03225806452 -3.0}  {-1.06451612903 2.03225806452 3.0} ',\n",
       "  'color $line_37 translucent 0.5 [0,0,0]',\n",
       "  'draw line_38 diameter 1 curve {1.06451612903 -2.03225806452 -3.0}  {1.06451612903 -2.03225806452 3.0} ',\n",
       "  'color $line_38 translucent 0.5 [0,0,0]',\n",
       "  'draw line_39 diameter 1 curve {1.06451612903 2.03225806452 -3.0}  {1.06451612903 2.03225806452 3.0} ',\n",
       "  'color $line_39 translucent 0.5 [0,0,0]',\n",
       "  'select atomno = 1',\n",
       "  'color atom  [76,76,76]',\n",
       "  'label &quot;0.00&quot;',\n",
       "  'select atomno = 2',\n",
       "  'color atom  [76,76,76]',\n",
       "  'label &quot;0.55&quot;',\n",
       "  'select atomno = 3',\n",
       "  'color atom  [76,76,76]',\n",
       "  'label &quot;1.10&quot;',\n",
       "  'select atomno = 4',\n",
       "  'color atom  [76,76,76]',\n",
       "  'label &quot;0.0&quot;',\n",
       "  'select atomno = 5',\n",
       "  'color atom  [76,76,76]',\n",
       "  'label &quot;1.1&quot;',\n",
       "  'select atomno = 6',\n",
       "  'color atom  [76,76,76]',\n",
       "  'label &quot;2.1&quot;',\n",
       "  'select atomno = 7',\n",
       "  'color atom  [76,76,76]',\n",
       "  'label &quot;0.0&quot;',\n",
       "  'select atomno = 8',\n",
       "  'color atom  [76,76,76]',\n",
       "  'label &quot;1.6&quot;',\n",
       "  'select atomno = 9',\n",
       "  'color atom  [76,76,76]',\n",
       "  'label &quot;3.1&quot;',\n",
       "  'isosurface fullylit; pmesh o* fullylit; set antialiasdisplay on;',\n",
       "].join('\\n');;\n",
       "    var Info = {\n",
       "      width: '100%',\n",
       "      height: '500',\n",
       "      debug: false,\n",
       "      disableInitialConsole: true,   // very slow when used with inline mesh\n",
       "      color: '#3131ff',\n",
       "      addSelectionOptions: false,\n",
       "      use: 'HTML5',\n",
       "      j2sPath: '/nbextensions/jsmol/j2s',\n",
       "      script: script,\n",
       "    };\n",
       "    var jmolApplet0 = Jmol.getApplet('jmolApplet0', Info);\n",
       "  </script>\n",
       "</body>\n",
       "</html>\n",
       "\" \n",
       "        width=\"100%\"\n",
       "        height=\"500\"\n",
       "        style=\"border: 0;\">\n",
       "</iframe>\n"
      ],
      "text/plain": [
       "Graphics3d Object"
      ]
     },
     "execution_count": 9,
     "metadata": {},
     "output_type": "execute_result"
    }
   ],
   "source": [
    "P = BoxInfty(center=[1,2,3], radius=0.1); P.plot(aspect_ratio=1)"
   ]
  },
  {
   "cell_type": "markdown",
   "metadata": {},
   "source": [
    "As a side note, the function also works when the arguments are not named, as in"
   ]
  },
  {
   "cell_type": "code",
   "execution_count": 10,
   "metadata": {
    "collapsed": false
   },
   "outputs": [
    {
     "data": {
      "text/html": [
       "<html><script type=\"math/tex; mode=display\">\\text{A 3-dimensional polyhedron in QQ^3 defined as the convex hull of 8 vertices (use the .plot() method to plot)}</script></html>"
      ],
      "text/plain": [
       "A 3-dimensional polyhedron in QQ^3 defined as the convex hull of 8 vertices"
      ]
     },
     "execution_count": 10,
     "metadata": {},
     "output_type": "execute_result"
    }
   ],
   "source": [
    "P = BoxInfty([1,2,3], 0.1); P"
   ]
  },
  {
   "cell_type": "markdown",
   "metadata": {},
   "source": [
    "Another use of `BoxInfty` is to specify the lengths of the sides. For example:"
   ]
  },
  {
   "cell_type": "code",
   "execution_count": 12,
   "metadata": {
    "collapsed": false
   },
   "outputs": [
    {
     "data": {
      "image/png": "[encoded data removed]",
      "text/plain": [
       "A 2-dimensional polyhedron in QQ^2 defined as the convex hull of 4 vertices"
      ]
     },
     "execution_count": 12,
     "metadata": {},
     "output_type": "execute_result"
    }
   ],
   "source": [
    "P = BoxInfty([[0,1], [2,3]]); P"
   ]
  },
  {
   "cell_type": "markdown",
   "metadata": {},
   "source": [
    "### Random polyhedra"
   ]
  },
  {
   "cell_type": "markdown",
   "metadata": {},
   "source": [
    "The `random_polygon_2d` receives the number of arguments as input and produces a polygon whose vertices are randomly sampled from the unit circle. See the docstring for more another options."
   ]
  },
  {
   "cell_type": "code",
   "execution_count": 13,
   "metadata": {
    "collapsed": false
   },
   "outputs": [
    {
     "data": {
      "image/png": "[encoded data removed]",
      "text/plain": [
       "A 2-dimensional polyhedron in QQ^2 defined as the convex hull of 5 vertices"
      ]
     },
     "execution_count": 13,
     "metadata": {},
     "output_type": "execute_result"
    }
   ],
   "source": [
    "from polyhedron_tools.polygons import random_polygon_2d\n",
    "\n",
    "random_polygon_2d(5)"
   ]
  },
  {
   "cell_type": "markdown",
   "metadata": {},
   "source": [
    "### Opposite polyhedron"
   ]
  },
  {
   "cell_type": "code",
   "execution_count": 14,
   "metadata": {
    "collapsed": false
   },
   "outputs": [],
   "source": [
    "from polyhedron_tools.misc import BoxInfty, opposite_polyhedron\n",
    "\n",
    "P = BoxInfty([1,1], 0.5);\n",
    "mp = opposite_polyhedron(P);"
   ]
  },
  {
   "cell_type": "code",
   "execution_count": 15,
   "metadata": {
    "collapsed": false
   },
   "outputs": [
    {
     "data": {
      "image/png": "[encoded data removed]",
      "text/plain": [
       "Graphics object consisting of 12 graphics primitives"
      ]
     },
     "execution_count": 15,
     "metadata": {},
     "output_type": "execute_result"
    }
   ],
   "source": [
    "P.plot(aspect_ratio=1) + mp.plot(color='red')"
   ]
  },
  {
   "cell_type": "markdown",
   "metadata": {},
   "source": [
    "## 3. Miscelaneous functions"
   ]
  },
  {
   "cell_type": "markdown",
   "metadata": {},
   "source": [
    "### Support function of a polytope"
   ]
  },
  {
   "cell_type": "code",
   "execution_count": 16,
   "metadata": {
    "collapsed": false
   },
   "outputs": [
    {
     "name": "stdout",
     "output_type": "stream",
     "text": [
      "**** Solve LP  ****\n",
      "Maximization:\n",
      "  x_0 - x_1 + x_2 - x_3 + x_4 \n",
      "\n",
      "Constraints:\n",
      "  x_0 <= 2.0\n",
      "  x_1 <= 3.0\n",
      "  x_2 <= 4.0\n",
      "  x_3 <= 5.0\n",
      "  x_4 <= 6.0\n",
      "  - x_0 <= 0.0\n",
      "  - x_4 <= -4.0\n",
      "  - x_3 <= -3.0\n",
      "  - x_2 <= -2.0\n",
      "  - x_1 <= -1.0\n",
      "Variables:\n",
      "  x_0 is a continuous variable (min=-oo, max=+oo)\n",
      "  x_1 is a continuous variable (min=-oo, max=+oo)\n",
      "  x_2 is a continuous variable (min=-oo, max=+oo)\n",
      "  x_3 is a continuous variable (min=-oo, max=+oo)\n",
      "  x_4 is a continuous variable (min=-oo, max=+oo)\n",
      "Objective Value: 8.0\n",
      "x_0 = 2.000000\n",
      "x_1 = 1.000000\n",
      "x_2 = 4.000000\n",
      "x_3 = 3.000000\n",
      "x_4 = 6.000000\n",
      "\n",
      "\n"
     ]
    },
    {
     "data": {
      "text/html": [
       "<html><script type=\"math/tex; mode=display\">\\newcommand{\\Bold}[1]{\\mathbf{#1}}8.0</script></html>"
      ],
      "text/plain": [
       "8.0"
      ]
     },
     "execution_count": 16,
     "metadata": {},
     "output_type": "execute_result"
    }
   ],
   "source": [
    "from polyhedron_tools.misc import support_function\n",
    "\n",
    "P = BoxInfty([1,2,3,4,5], 1); P\n",
    "support_function(P, [1,-1,1,-1,1], verbose=1)"
   ]
  },
  {
   "cell_type": "markdown",
   "metadata": {},
   "source": [
    "It is also possible to input the polyhedron in matrix form, $[A, b]$. If this is possible, it is preferable, since it is often faster. Below is an example with $12$ variables. We get beteen 3x and 4x improvement in the second case. "
   ]
  },
  {
   "cell_type": "code",
   "execution_count": 17,
   "metadata": {
    "collapsed": false
   },
   "outputs": [],
   "source": [
    "reset('P, A, b')\n",
    "P = BoxInfty([1,2,3,4,5,6,7,8,9,10,11,12], 1); P\n",
    "[A, b] = polyhedron_to_Hrep(P)"
   ]
  },
  {
   "cell_type": "code",
   "execution_count": 18,
   "metadata": {
    "collapsed": false
   },
   "outputs": [
    {
     "name": "stdout",
     "output_type": "stream",
     "text": [
      "125 loops, best of 3: 1.77 ms per loop\n"
     ]
    }
   ],
   "source": [
    "timeit('support_function(P, [1,-1,1,-1,1,-1,1,-1,1,-1,1,-1])')"
   ]
  },
  {
   "cell_type": "code",
   "execution_count": 19,
   "metadata": {
    "collapsed": false
   },
   "outputs": [
    {
     "data": {
      "text/html": [
       "<html><script type=\"math/tex; mode=display\">\\newcommand{\\Bold}[1]{\\mathbf{#1}}6.0</script></html>"
      ],
      "text/plain": [
       "6.0"
      ]
     },
     "execution_count": 19,
     "metadata": {},
     "output_type": "execute_result"
    }
   ],
   "source": [
    "support_function([A, b], [1,-1,1,-1,1,-1,1,-1,1,-1,1,-1])"
   ]
  },
  {
   "cell_type": "code",
   "execution_count": 20,
   "metadata": {
    "collapsed": false
   },
   "outputs": [
    {
     "name": "stdout",
     "output_type": "stream",
     "text": [
      "625 loops, best of 3: 421 µs per loop\n"
     ]
    }
   ],
   "source": [
    "timeit('support_function([A, b], [1,-1,1,-1,1,-1,1,-1,1,-1,1,-1])')"
   ]
  },
  {
   "cell_type": "markdown",
   "metadata": {},
   "source": [
    "### Support function of an ellipsoid"
   ]
  },
  {
   "cell_type": "code",
   "execution_count": 21,
   "metadata": {
    "collapsed": false
   },
   "outputs": [
    {
     "data": {
      "image/png": "[encoded data removed]",
      "text/plain": [
       "Graphics object consisting of 18 graphics primitives"
      ]
     },
     "execution_count": 21,
     "metadata": {},
     "output_type": "execute_result"
    }
   ],
   "source": [
    "from polyhedron_tools.misc import support_function, support_function_ellipsoid \n",
    "import random\n",
    "\n",
    "# Generate a random ellipsoid and check support function outer approximation.\n",
    "# Define an ellipse as: x^T*Q*x <= 1\n",
    "M = random_matrix(RR, 2, distribution=\"uniform\")\n",
    "Q = M.T*M\n",
    "f = lambda x, y : Q[0,0]*x^2 + Q[1,1]*y^2 + (Q[0,1]+Q[1,0])*x*y-1\n",
    "E = implicit_plot(f,(-5,5),(-3,3),fill=True,alpha=0.5,plot_points=600)\n",
    "\n",
    "# generate at random k directions, and compute the overapproximation of E using support functions\n",
    "# It works 'in average': we might get unbounded domains (random choice did not enclose the ellipsoid).\n",
    "# It is recommended to use QQ as base_ring to avoid 'frozen set' issues.\n",
    "k=15\n",
    "A = matrix(RR,k,2); b = vector(RR,k)\n",
    "for i in range(k):\n",
    "    theta = random.uniform(0, 2*pi.n(digits=5))\n",
    "    d = vector(RR,[cos(theta), sin(theta)])\n",
    "    s_fun = support_function_ellipsoid(Q, d)\n",
    "    A.set_row(i,d); b[i] = s_fun\n",
    "\n",
    "OmegaApprox = polyhedron_from_Hrep(A, b, base_ring = QQ)\n",
    "E + OmegaApprox.plot(fill=False, color='red')"
   ]
  },
  {
   "cell_type": "markdown",
   "metadata": {},
   "source": [
    "### Supremum norm of a polyhedron"
   ]
  },
  {
   "cell_type": "code",
   "execution_count": 22,
   "metadata": {
    "collapsed": true
   },
   "outputs": [],
   "source": [
    "from polyhedron_tools.misc import BoxInfty, radius"
   ]
  },
  {
   "cell_type": "code",
   "execution_count": 23,
   "metadata": {
    "collapsed": false
   },
   "outputs": [],
   "source": [
    "P = BoxInfty([-13,24,-51,18.54,309],27.04);\n",
    "radius(P)"
   ]
  },
  {
   "cell_type": "code",
   "execution_count": 24,
   "metadata": {
    "collapsed": false
   },
   "outputs": [],
   "source": [
    "got_lengths, got_center_and_radius = False, False"
   ]
  },
  {
   "cell_type": "code",
   "execution_count": 25,
   "metadata": {
    "collapsed": false
   },
   "outputs": [
    {
     "data": {
      "text/html": [
       "<html><script type=\"math/tex; mode=display\">\\newcommand{\\Bold}[1]{\\mathbf{#1}}\\mathrm{False}</script></html>"
      ],
      "text/plain": [
       "False"
      ]
     },
     "execution_count": 25,
     "metadata": {},
     "output_type": "execute_result"
    }
   ],
   "source": [
    "got_lengths is not False"
   ]
  },
  {
   "cell_type": "code",
   "execution_count": 26,
   "metadata": {
    "collapsed": false
   },
   "outputs": [
    {
     "data": {
      "text/html": [
       "<html><script type=\"math/tex; mode=display\">\\newcommand{\\Bold}[1]{\\mathbf{#1}}336.04</script></html>"
      ],
      "text/plain": [
       "336.04"
      ]
     },
     "execution_count": 26,
     "metadata": {},
     "output_type": "execute_result"
    }
   ],
   "source": [
    "radius(polyhedron_to_Hrep(P))"
   ]
  },
  {
   "cell_type": "code",
   "execution_count": 28,
   "metadata": {
    "collapsed": false
   },
   "outputs": [
    {
     "data": {
      "text/html": [
       "<html><script type=\"math/tex; mode=display\">\\newcommand{\\Bold}[1]{\\mathbf{#1}}336.040000000000</script></html>"
      ],
      "text/plain": [
       "336.040000000000"
      ]
     },
     "execution_count": 28,
     "metadata": {},
     "output_type": "execute_result"
    }
   ],
   "source": [
    "8401/25.n()"
   ]
  },
  {
   "cell_type": "markdown",
   "metadata": {},
   "source": [
    "Consider a higher-dimensional system. We obtain almost a 200x improvement for a 15-dimensional set. This is because in the case we call ```poly_sup_norm``` with a polytope, the ```bounding_box()``` function consumes time. "
   ]
  },
  {
   "cell_type": "code",
   "execution_count": 30,
   "metadata": {
    "collapsed": false
   },
   "outputs": [
    {
     "name": "stdout",
     "output_type": "stream",
     "text": [
      "CPU times: user 1.4 s, sys: 45.5 ms, total: 1.44 s\n",
      "Wall time: 1.44 s\n"
     ]
    }
   ],
   "source": [
    "%%time \n",
    "P = BoxInfty([1,1,1,1,1,1,1,1,1,1,1,1,1,1,1], 14.28);\n",
    "radius(P)"
   ]
  },
  {
   "cell_type": "code",
   "execution_count": 31,
   "metadata": {
    "collapsed": false
   },
   "outputs": [
    {
     "name": "stdout",
     "output_type": "stream",
     "text": [
      "CPU times: user 20.4 ms, sys: 1.19 ms, total: 21.6 ms\n",
      "Wall time: 20.9 ms\n"
     ]
    }
   ],
   "source": [
    "%%time \n",
    "[A, b] = BoxInfty([1,1,1,1,1,1,1,1,1,1,1,1,1,1,1], 14.28, base_ring = RDF, return_HSpaceRep = True)\n",
    "radius([A, b])"
   ]
  },
  {
   "cell_type": "markdown",
   "metadata": {
    "collapsed": false,
    "scrolled": true
   },
   "source": [
    "The improvement in speed is quite interesting! Moreover, for a 20-dimensional set, the polyhedron construct does not finish."
   ]
  },
  {
   "cell_type": "markdown",
   "metadata": {},
   "source": [
    "###  Linear map of a polyhedron"
   ]
  },
  {
   "cell_type": "markdown",
   "metadata": {
    "collapsed": true
   },
   "source": [
    "The operation `matrix x polyhedron` can be performed in Sage with the usual command, `*`."
   ]
  },
  {
   "cell_type": "code",
   "execution_count": 33,
   "metadata": {
    "collapsed": false
   },
   "outputs": [
    {
     "data": {
      "image/png": "[encoded data removed]",
      "text/plain": [
       "Graphics object consisting of 12 graphics primitives"
      ]
     },
     "execution_count": 33,
     "metadata": {},
     "output_type": "execute_result"
    }
   ],
   "source": [
    "U = BoxInfty([[0,1],[0,1]])\n",
    "B = matrix([[1,1],[1,-1]])\n",
    "P = B * U\n",
    "P.plot(color='red', alpha=0.5) + U.plot()"
   ]
  },
  {
   "cell_type": "markdown",
   "metadata": {},
   "source": [
    "###  Chebyshev center"
   ]
  },
  {
   "cell_type": "code",
   "execution_count": 36,
   "metadata": {
    "collapsed": false
   },
   "outputs": [
    {
     "data": {
      "image/png": "[encoded data removed]",
      "text/plain": [
       "Graphics object consisting of 22 graphics primitives"
      ]
     },
     "execution_count": 36,
     "metadata": {},
     "output_type": "execute_result"
    }
   ],
   "source": [
    "from polyhedron_tools.misc import chebyshev_center, BoxInfty\n",
    "from polyhedron_tools.polygons import random_polygon_2d\n",
    "\n",
    "P = random_polygon_2d(10, base_ring = QQ)\n",
    "c = chebyshev_center(P); \n",
    "\n",
    "B = BoxInfty([[1,2],[0,1]])\n",
    "b = chebyshev_center(B)\n",
    "\n",
    "fig = point(c, color='blue') + P.plot(color='blue', alpha=0.2)\n",
    "fig += point(b, color='red') + B.plot(color='red', alpha=0.2)\n",
    "\n",
    "fig += point(P.center().n(), color='green',marker='x')\n",
    "fig += point(B.center().n(), color='green',marker='x')\n",
    "\n",
    "fig"
   ]
  },
  {
   "cell_type": "markdown",
   "metadata": {},
   "source": [
    "The method ```center()``` existent in the Polyhedra class, computes the average of the vertices. In contrast, the Chebyshev center is the center of the largest box enclosed by the polytope."
   ]
  },
  {
   "cell_type": "code",
   "execution_count": 37,
   "metadata": {
    "collapsed": false
   },
   "outputs": [
    {
     "data": {
      "text/html": [
       "<html><script type=\"math/tex; mode=display\">\\newcommand{\\Bold}[1]{\\mathbf{#1}}\\left(\\left(1, 0\\right), \\left(2, 1\\right)\\right)</script></html>"
      ],
      "text/plain": [
       "((1, 0), (2, 1))"
      ]
     },
     "execution_count": 37,
     "metadata": {},
     "output_type": "execute_result"
    }
   ],
   "source": [
    "B.bounding_box()"
   ]
  },
  {
   "cell_type": "code",
   "execution_count": 38,
   "metadata": {
    "collapsed": false
   },
   "outputs": [
    {
     "data": {
      "text/html": [
       "<html><script type=\"math/tex; mode=display\">\\newcommand{\\Bold}[1]{\\mathbf{#1}}\\left(\\left(-\\frac{971}{2310}, -\\frac{1152}{1163}\\right), \\left(\\frac{1367}{1528}, \\frac{630}{631}\\right)\\right)</script></html>"
      ],
      "text/plain": [
       "((-971/2310, -1152/1163), (1367/1528, 630/631))"
      ]
     },
     "execution_count": 38,
     "metadata": {},
     "output_type": "execute_result"
    }
   ],
   "source": [
    "P.bounding_box()"
   ]
  },
  {
   "cell_type": "code",
   "execution_count": 39,
   "metadata": {
    "collapsed": false
   },
   "outputs": [
    {
     "data": {
      "image/png": "[encoded data removed]",
      "text/plain": [
       "Graphics object consisting of 29 graphics primitives"
      ]
     },
     "execution_count": 39,
     "metadata": {},
     "output_type": "execute_result"
    }
   ],
   "source": [
    "e = [ (P.bounding_box()[0][0] + P.bounding_box()[1][0])/2, (P.bounding_box()[0][1] + P.bounding_box()[1][1])/2]\n",
    "l = [[P.bounding_box()[0][0], P.bounding_box()[1][0]], [P.bounding_box()[0][1], P.bounding_box()[1][1]] ]\n",
    "\n",
    "fig += point(e,color='black') + BoxInfty(lengths=l).plot(alpha=0.1,color='grey')\n",
    "\n",
    "fig"
   ]
  },
  {
   "cell_type": "markdown",
   "metadata": {},
   "source": [
    "Here we have added in grey the bounding box that is obtained from the method ```bounding_box()```. To make the picture complete, we should also add the box of center Cheby center, and of maximal radius which is included in it."
   ]
  },
  {
   "cell_type": "markdown",
   "metadata": {
    "collapsed": true
   },
   "source": [
    "## 4. Approximate projections"
   ]
  },
  {
   "cell_type": "code",
   "execution_count": 41,
   "metadata": {
    "collapsed": false
   },
   "outputs": [
    {
     "data": {
      "text/html": [
       "<html><script type=\"math/tex; mode=display\">\\text{A 3-dimensional polyhedron in QQ^6 defined as the convex hull of 8 vertices (use the .plot() method to plot)}</script></html>"
      ],
      "text/plain": [
       "A 3-dimensional polyhedron in QQ^6 defined as the convex hull of 8 vertices"
      ]
     },
     "execution_count": 41,
     "metadata": {},
     "output_type": "execute_result"
    }
   ],
   "source": [
    "from polyhedron_tools.projections import lotov_algo\n",
    "from polyhedron_tools.misc import polyhedron_to_Hrep, polyhedron_from_Hrep \n",
    "\n",
    "A = matrix([[-1.0, 0.0,  0.0,  0.0,  0.0,  0.0],\n",
    "[ 1.0,  0.0,  0.0,  0.0,  0.0,  0.0],\n",
    "[ 0.0,  1.0,  0.0,  0.0,  0.0,  0.0],\n",
    "[ 0.0, -1.0,  0.0,  0.0,  0.0,  0.0],\n",
    "[ 0.0,  0.0, -1.0,  0.0,  0.0,  0.0],\n",
    "[ 0.0,  0.0,  1.0,  0.0,  0.0,  0.0],\n",
    "[ 0.0,  0.0,  0.0, -1.0,  0.0,  0.0],\n",
    "[ 0.0,  0.0,  0.0,  1.0,  0.0,  0.0],\n",
    "[ 0.0,  0.0,  0.0,  0.0,  1.0,  0.0],\n",
    "[ 0.0,  0.0,  0.0,  0.0, -1.0,  0.0],\n",
    "[ 0.0,  0.0,  0.0,  0.0,  0.0,  1.0],\n",
    "[ 0.0,  0.0,  0.0,  0.0,  0.0, -1.0]])\n",
    "\n",
    "b = vector([0.0, 10.0, 0.0, 0.0, 0.2, 0.2, 0.1, 0.1, 0.0, 0.0, 0.0, 0.0])\n",
    "\n",
    "P = polyhedron_from_Hrep(A, b); P"
   ]
  },
  {
   "cell_type": "code",
   "execution_count": 42,
   "metadata": {
    "collapsed": false
   },
   "outputs": [
    {
     "data": {
      "text/html": [
       "<html><script type=\"math/tex; mode=display\">\\newcommand{\\Bold}[1]{\\mathbf{#1}}\\left[\\left[\\left(0,\\,0\\right), \\left(0,\\,0\\right), \\left(10,\\,0\\right), \\left(10,\\,0\\right)\\right], \\left[\\left(0.0,\\,0.0\\right), \\left(0.0,\\,0.0\\right), \\left(0.0,\\,0.0\\right), \\left(10.0,\\,0.0\\right)\\right]\\right]</script></html>"
      ],
      "text/plain": [
       "[[(0, 0), (0, 0), (10, 0), (10, 0)],\n",
       " [(0.0, 0.0), (0.0, 0.0), (0.0, 0.0), (10.0, 0.0)]]"
      ]
     },
     "execution_count": 42,
     "metadata": {},
     "output_type": "execute_result"
    }
   ],
   "source": [
    "lotov_algo(A, b, [1,0,0], [0,1,0], 0.5)"
   ]
  }
 ],
 "metadata": {
  "kernelspec": {
   "display_name": "SageMath 7.5.1",
   "language": "",
   "name": "sagemath"
  },
  "language_info": {
   "codemirror_mode": {
    "name": "ipython",
    "version": 2
   },
   "file_extension": ".py",
   "mimetype": "text/x-python",
   "name": "python",
   "nbconvert_exporter": "python",
   "pygments_lexer": "ipython2",
   "version": "2.7.13"
  }
 },
 "nbformat": 4,
 "nbformat_minor": 0
}
